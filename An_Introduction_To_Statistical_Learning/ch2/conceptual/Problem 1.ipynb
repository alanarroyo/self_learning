{
 "cells": [
  {
   "cell_type": "markdown",
   "metadata": {},
   "source": [
    "# Problem 1\n",
    "\n",
    "<span style=\"color: gray;\">\n",
    "For each of parts (a) through (d), indicate whether we would generally expect the performance fo a flexible statistical learning method to be better or works than an inflexible method. Justify your answer.\n",
    "\n",
    "1. (a) The sample size $n$ is extremely large, and the number of predictors $p$ is small.\n",
    "2. (b) The number of predictors $p$ is extremely large, and the number of observations $n$ is small.\n",
    "3. (c) The relationship between the predictors and presponse is highly non-linear.\n",
    "4. (d) The variance of the error terms, i.e. $\\sigma^2=\\text{Var}(\\epsilon)$, is extremely high. \n",
    "</span>"
   ]
  },
  {
   "cell_type": "markdown",
   "metadata": {},
   "source": [
    "In this exercise we are assuming that we are estimating \n",
    "\n",
    "$$Y=f(X)+\\epsilon$$\n",
    "\n",
    "for some fixed unknown function of $X=(X_1,\\ldots, X_p)$ and where $\\epsilon$ is a random error term."
   ]
  },
  {
   "cell_type": "markdown",
   "metadata": {},
   "source": [
    "(b) When the number $p$ of predictors is extremely large, instead of having to fit an arbitrary p-dimensional function, one simply has to optimize $O(p)$ coefficients in a parametric model. "
   ]
  },
  {
   "cell_type": "markdown",
   "metadata": {},
   "source": [
    "(c) In this case, flexible methods are more desirable, as they can generate a much wider range of possible shapes to estimate a shapes of $\\hat{f}$."
   ]
  },
  {
   "cell_type": "markdown",
   "metadata": {},
   "source": [
    "(d) When the variance of the error term is high, then if our estimated $\\hat{f}$ follows a flexible model, then it will try to fit into the errors, which will be prone to a high testing error."
   ]
  },
  {
   "cell_type": "code",
   "execution_count": null,
   "metadata": {},
   "outputs": [],
   "source": []
  }
 ],
 "metadata": {
  "kernelspec": {
   "display_name": "R",
   "language": "R",
   "name": "ir"
  },
  "language_info": {
   "codemirror_mode": "r",
   "file_extension": ".r",
   "mimetype": "text/x-r-source",
   "name": "R",
   "pygments_lexer": "r",
   "version": "3.6.1"
  }
 },
 "nbformat": 4,
 "nbformat_minor": 4
}
